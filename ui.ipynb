{
 "cells": [
  {
   "cell_type": "markdown",
   "metadata": {},
   "source": [
    "<center><h1 class=\"text-center h3\" id=\"loading-app\">Setting things up for you... Thanks for waiting!</h1></center>"
   ]
  },
  {
   "cell_type": "code",
   "execution_count": null,
   "metadata": {},
   "outputs": [],
   "source": [
    "import sepal_ui.sepalwidgets as sw\n",
    "from sepal_ui import aoi\n",
    "from component import model\n",
    "from component import tile"
   ]
  },
  {
   "cell_type": "code",
   "execution_count": null,
   "metadata": {},
   "outputs": [],
   "source": [
    "# create an appBar\n",
    "gfc_appBar = sw.AppBar(\"Forest change mask\")"
   ]
  },
  {
   "cell_type": "code",
   "execution_count": null,
   "metadata": {},
   "outputs": [],
   "source": [
    "gfc_about = sw.TileAbout(\"utils/about.md\")\n",
    "gfc_disclaimer = sw.TileDisclaimer()"
   ]
  },
  {
   "cell_type": "code",
   "execution_count": null,
   "metadata": {},
   "outputs": [],
   "source": [
    "gfc_aoi = aoi.AoiTile(methods=[\"-POINTS\"])"
   ]
  },
  {
   "cell_type": "code",
   "execution_count": null,
   "metadata": {},
   "outputs": [],
   "source": [
    "gfc_viz_model = model.VizModel()"
   ]
  },
  {
   "cell_type": "code",
   "execution_count": null,
   "metadata": {},
   "outputs": [],
   "source": [
    "gfc_viz = tile.VizTile(gfc_viz_model, gfc_aoi.view.model)"
   ]
  },
  {
   "cell_type": "code",
   "execution_count": null,
   "metadata": {},
   "outputs": [],
   "source": [
    "gfc_export = tile.ExportTile(gfc_viz_model, gfc_aoi.view.model)"
   ]
  },
  {
   "cell_type": "code",
   "execution_count": null,
   "metadata": {},
   "outputs": [],
   "source": [
    "gfc_results = gfc_export.result_tile"
   ]
  },
  {
   "cell_type": "code",
   "execution_count": null,
   "metadata": {},
   "outputs": [],
   "source": [
    "gfc_content = [gfc_aoi, gfc_viz, gfc_export, gfc_results, gfc_about, gfc_disclaimer]"
   ]
  },
  {
   "cell_type": "code",
   "execution_count": null,
   "metadata": {},
   "outputs": [],
   "source": [
    "# create a drawer\n",
    "items = [\n",
    "    sw.DrawerItem(\"AOI selection\", \"mdi-map-marker-check\", card=\"aoi_tile\"),\n",
    "    sw.DrawerItem(\"Visualize forest mask\", \"mdi-earth\", card=\"gfc_map_tile\"),\n",
    "    sw.DrawerItem(\"Export selected data\", \"mdi-export\", card=\"gfc_export_tile\"),\n",
    "    sw.DrawerItem(\"About\", \"mdi-help-circle\", card=\"about_tile\"),\n",
    "]\n",
    "\n",
    "code_link = \"https://github.com/openforis/gfc_wrapper_python\"\n",
    "wiki_link = \"https://docs.sepal.io/en/latest/modules/dwn/gfc_wrapper_python.html\"\n",
    "issue = \"https://github.com/openforis/gfc_wrapper_python/issues/new\"\n",
    "\n",
    "gfc_drawer = sw.NavDrawer(items, code=code_link, wiki=wiki_link, issue=issue)"
   ]
  },
  {
   "cell_type": "code",
   "execution_count": null,
   "metadata": {},
   "outputs": [],
   "source": [
    "# build the app\n",
    "gfc_app = sw.App(tiles=gfc_content, appBar=gfc_appBar, navDrawer=gfc_drawer).show_tile(\n",
    "    \"aoi_tile\"\n",
    ")"
   ]
  },
  {
   "cell_type": "code",
   "execution_count": null,
   "metadata": {},
   "outputs": [],
   "source": [
    "# display the app\n",
    "gfc_app"
   ]
  }
 ],
 "metadata": {
  "kernelspec": {
   "display_name": "(test) test-gfc_wrapper_python",
   "language": "python",
   "name": "test-gfc_wrapper_python"
  },
  "language_info": {
   "codemirror_mode": {
    "name": "ipython",
    "version": 3
   },
   "file_extension": ".py",
   "mimetype": "text/x-python",
   "name": "python",
   "nbconvert_exporter": "python",
   "pygments_lexer": "ipython3",
   "version": "3.10.12"
  },
  "voila": {
   "theme": "dark"
  }
 },
 "nbformat": 4,
 "nbformat_minor": 4
}