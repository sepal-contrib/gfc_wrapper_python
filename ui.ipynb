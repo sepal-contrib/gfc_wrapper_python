{
 "cells": [
  {
   "cell_type": "code",
   "execution_count": null,
   "metadata": {},
   "outputs": [],
   "source": [
    "from sepal_ui import sepalwidgets as sw"
   ]
  },
  {
   "cell_type": "code",
   "execution_count": null,
   "metadata": {},
   "outputs": [],
   "source": [
    "# create an appBar\n",
    "gfc_appBar = sw.AppBar(\"Forest change mask\")"
   ]
  },
  {
   "cell_type": "code",
   "execution_count": null,
   "metadata": {},
   "outputs": [],
   "source": [
    "# add your tiles\n",
    "%run 'aoi_selector_ui.ipynb'\n",
    "%run 'gfc_map_ui.ipynb'\n",
    "%run 'gfc_export_ui.ipynb'\n",
    "%run 'about_ui.ipynb'\n",
    "\n",
    "gfc_content = [gfc_aoi, gfc_viz, gfc_export, gfc_results, gfc_about, gfc_disclaimer]"
   ]
  },
  {
   "cell_type": "code",
   "execution_count": null,
   "metadata": {},
   "outputs": [],
   "source": [
    "# create a drawer\n",
    "items = [\n",
    "    sw.DrawerItem(\"AOI selection\", \"mdi-map-marker-check\", card=\"aoi_tile\"),\n",
    "    sw.DrawerItem(\"Visualize forest mask\", \"mdi-earth\", card=\"gfc_map_tile\"),\n",
    "    sw.DrawerItem(\"Export selected data\", \"mdi-export\", card=\"gfc_export_tile\"),\n",
    "    sw.DrawerItem(\"About\", \"mdi-help-circle\", card=\"about_tile\"),\n",
    "]\n",
    "\n",
    "code_link = \"https://github.com/openforis/gfc_wrapper_python\"\n",
    "wiki_link = \"https://docs.sepal.io/en/latest/modules/dwn/gfc_wrapper_python.html\"\n",
    "issue = \"https://github.com/openforis/gfc_wrapper_python/issues/new\"\n",
    "\n",
    "gfc_drawer = sw.NavDrawer(items, code=code_link, wiki=wiki_link, issue=issue)"
   ]
  },
  {
   "cell_type": "code",
   "execution_count": null,
   "metadata": {},
   "outputs": [],
   "source": [
    "# build the app\n",
    "gfc_app = sw.App(tiles=gfc_content, appBar=gfc_appBar, navDrawer=gfc_drawer).show_tile(\n",
    "    \"aoi_tile\"\n",
    ")"
   ]
  },
  {
   "cell_type": "code",
   "execution_count": null,
   "metadata": {},
   "outputs": [],
   "source": [
    "# display the app\n",
    "gfc_app"
   ]
  }
 ],
 "metadata": {
  "kernelspec": {
   "display_name": " (venv) Forest change mask",
   "language": "python",
   "name": "venv-gfc_wrapper_python"
  },
  "language_info": {
   "codemirror_mode": {
    "name": "ipython",
    "version": 3
   },
   "file_extension": ".py",
   "mimetype": "text/x-python",
   "name": "python",
   "nbconvert_exporter": "python",
   "pygments_lexer": "ipython3",
   "version": "3.8.10"
  },
  "voila": {
   "theme": "dark"
  }
 },
 "nbformat": 4,
 "nbformat_minor": 4
}
