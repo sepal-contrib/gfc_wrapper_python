{
 "cells": [
  {
   "cell_type": "code",
   "execution_count": null,
   "id": "15d5f46a-9bfe-40b2-9497-e228bd9fb4f8",
   "metadata": {},
   "outputs": [],
   "source": [
    "# this notebook is only here to provide the position of the missing keys\n",
    "# the base dict is the english one.\n",
    "# it should be complete\n",
    "\n",
    "from pathlib import Path\n",
    "\n",
    "from sepal_ui.translator import Translator"
   ]
  },
  {
   "cell_type": "code",
   "execution_count": null,
   "id": "dc41f881-d6fe-487c-844f-712280b5e9f5",
   "metadata": {},
   "outputs": [],
   "source": [
    "# select the language you want to test\n",
    "locale = \"en\""
   ]
  },
  {
   "cell_type": "code",
   "execution_count": null,
   "id": "d25f9846-c1e5-4ec0-aa09-5ed3027b3727",
   "metadata": {},
   "outputs": [],
   "source": [
    "cm = Translator(Path.cwd(), locale)"
   ]
  },
  {
   "cell_type": "code",
   "execution_count": null,
   "id": "e055b263-7d92-463f-96e5-a408addb980f",
   "metadata": {},
   "outputs": [],
   "source": [
    "# normally there is only one key lissing ('not_tranlated')\n",
    "# at the root of the file\n",
    "print(cm.missing_keys())"
   ]
  }
 ],
 "metadata": {
  "kernelspec": {
   "display_name": "Python 3",
   "language": "python",
   "name": "python3"
  },
  "language_info": {
   "codemirror_mode": {
    "name": "ipython",
    "version": 3
   },
   "file_extension": ".py",
   "mimetype": "text/x-python",
   "name": "python",
   "nbconvert_exporter": "python",
   "pygments_lexer": "ipython3",
   "version": "3.6.9"
  }
 },
 "nbformat": 4,
 "nbformat_minor": 5
}
